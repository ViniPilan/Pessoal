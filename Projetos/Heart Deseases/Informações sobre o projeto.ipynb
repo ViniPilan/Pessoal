{
 "cells": [
  {
   "cell_type": "markdown",
   "id": "dc9f73fd",
   "metadata": {},
   "source": [
    "# Diagnóstico precoce de doença cardíaca / early diagnosis of heart disease"
   ]
  },
  {
   "cell_type": "markdown",
   "id": "dad7700b",
   "metadata": {},
   "source": [
    "### Introdução"
   ]
  },
  {
   "cell_type": "markdown",
   "id": "743612ea",
   "metadata": {},
   "source": [
    "O termo doença cardíaca é um termo geral usado para se referir a **vários tipos de doenças que envolvem um ou mais componentes do coração**. As principais doenças cardíacas são: \n",
    "\n",
    "\n",
    "- Hipertensão arterial\n",
    "- Doença coronariana (doença isquêmica do coração)\n",
    "- Doença cerebrovascular\n",
    "- Doença arterial periférica;\n",
    "- Doença cardíaca reumática (doença valvar)\n",
    "- Cardiopatia congênita\n",
    "\n",
    "\n",
    "A *doença coronariana, doença isquêmica do coração*, e a *doença cerebrobascular* são as piores doenças do gênero quando se trata de óbitos. Através da imagem abaixo, pode-se perceber a gravidade dessas doenças. A figura abaixo, retirada do site UOL sobre uma pesquisa feita em 2019, compara o número de mortes das principais doenças no mundo entre o ano de 2009 e o de 2019):\n",
    "\n",
    "\n",
    "\n",
    "![gráfico01](Imagens/gráfico01.png)\n",
    "<center> Fonte: <a href=\"https://www.uol.com.br/vivabem/noticias/redacao/2020/10/16/isquemia-cardiaca-foi-a-doenca-que-mais-matou-no-brasil-em-2019-diz-estudo.htm\">[UOL] Doenças isquêmicas do coração foram maior causa de morte no Brasil em 2019...</a> </center>\n",
    "\n",
    "Como se pode observar, a doença coronariana e a cerebrovascular são as duas que mais matam desde 2009 até os dias atuais.\n",
    "\n",
    "**Essa pesquisa foi feita desconsiderando os impactos causados pelo Corona Vírus COVID-19. Como a pandemia ainda é o contexto atual, a analise de seus impactos ainda é complexa de se realizar e por isso foi optado pela desconsideração da doença.**"
   ]
  },
  {
   "cell_type": "markdown",
   "id": "b9fbe367",
   "metadata": {},
   "source": [
    "### Objetivo desse trabalho"
   ]
  },
  {
   "cell_type": "markdown",
   "id": "be6a4622",
   "metadata": {},
   "source": [
    "Sabendo da gravidade dos problemas cardíacos, o cuidado com a saúde cardíaca e a valorização do médico cardiologista são fundamentais para garantir longevidade e bem estar da população. \n",
    "\n",
    "Tendo isso em vista, esse trabalho visa possibilitar qualquer pessoa a fazer um diagnóstico precoce **auxiliar** e geral, ou seja, para qualquer doença cardíaca, para que o indivíduo possa ter uma noção de seu estado com relação as doenças cardíacas. A ideia é uma tentativa de diminuição do número de óbitos relacionados a essas doenças, pois o indivíduo já teria conhecimento do risco da situação em que se encontra caso esteja próximo de desenvolvê-las (obtendo diagnóstico precoce). \n",
    "\n",
    "O indivíduo terá seu diagnóstico auxiliar, geral e preditivo, por meio de um algoritmo de aprendizado de máquina que, ao **receber algumas informações sobre o indivíduo**, **retornará uma probabilidade daquela pessoa estar com algum problema cardíaco**. Essa probabilidade será o diagnóstico feito pelo software.\n",
    "\n",
    "Vale ressaltar que tal diagnóstico é geral, ou seja, para qualquer doença cardíaca, e portanto, o mesmo deve ser considerado apenas um auxílio para o indivíduo que o utilizará e não como um diagnóstico definitivo. Além do mais, assim como qualquer resultado de classificação, o resultado obtido aqui pode ser um Falso-Positivo ou um Falto-Negativo, não representando de fato a realidade da pessoa analisada."
   ]
  },
  {
   "cell_type": "markdown",
   "id": "ed8b574d",
   "metadata": {},
   "source": [
    "### Sobre os dados utilizados nesse projeto"
   ]
  },
  {
   "cell_type": "markdown",
   "id": "bb60e3b2",
   "metadata": {},
   "source": [
    "A construção do algoritmo que realizará o diagnóstico precoce será feita apartir dos dados disponíveis no dataset [Cholesterol](https://www.kaggle.com/mathurinache/cholesterol), disponível no site do Kaggle. Tal dataset foi produzido através de dados de várias instituições, e os direitos autorais de uso do dataset estão citados logo abaixo.\n",
    "\n",
    "Principais investigadores responsáveis pela coleta de dados de cada instituição envolvida:\n",
    "\n",
    "1. Hungarian Institute of Cardiology. Budapest: Andras Janosi, M.D.\n",
    "2. University Hospital, Zurich, Switzerland: William Steinbrunn, M.D.\n",
    "3. University Hospital, Basel, Switzerland: Matthias Pfisterer, M.D.\n",
    "4. V.A. Medical Center, Long Beach and Cleveland Clinic Foundation:\n",
    "   Robert Detrano, M.D., Ph.D."
   ]
  },
  {
   "cell_type": "markdown",
   "id": "a81136f0",
   "metadata": {},
   "source": [
    "### Sobre o desenvolvimento do projeto\n",
    "\n",
    "Para que a criação do algoritmo seja realizada corretamente, todo o desenvolvimento do projeto será composto pelas seguintes etapas:\n",
    "1. Análise exploratória dos dados\n",
    "    - Entendimento do dataframe\n",
    "    - Limpeza\n",
    "    - Tratamento e correções\n",
    "    - Analisando os padrões e definindo os melhores algoritmos de Machine Learning para teste\n",
    "    \n",
    "    \n",
    "2. Testando os algoritmos de machine learning definidos na etapa anterior\n",
    "    - Separação dos dados para teste e treino\n",
    "    - Testes dos algoritmos\n",
    "    - Evaluation\n",
    "    - Escolhendo o melhor algoritmo para implementação\n",
    "    - Salvando o modelo definindo\n",
    "    \n",
    "\n",
    "3. Criação do programa com interface amigável ao usuário\n",
    "    - Criação da interface de uso do software\n",
    "    - Implementação do modelo de Machine Learning salvo anteriormente \n",
    "    \n",
    "Ao final das três etapas, estará disponível o algoritmo preditivo de diagnóstico auxiliar e precoce desejado. Tal algoritmo, ao receber as características de um determinado indivíduo, retornará a probabilidade daquele indivíduo estar em uma situação de risco com relação ao desenvolvimento de doenças cardíacas."
   ]
  },
  {
   "cell_type": "markdown",
   "id": "d0fa054b",
   "metadata": {},
   "source": [
    "### Sobre o autor"
   ]
  },
  {
   "cell_type": "markdown",
   "id": "8a5accfa",
   "metadata": {},
   "source": [
    "Me chamo Vinícius de Paula Pilan, sou estudante de Ciência da Computação na *Universidade Estadual Paulista - Júlio de Mesquita Filho - UNESP* e tenho muito interesse em me profissionalizar na área de Ciência de Dados. Atualmente busco aprender cada vez mais sobre a área e esse projeto será um meio para adquirir ainda mais conhecimento nessa área maravilhosa.\n",
    "\n",
    "Agradeço pelo seu interesse no meu projeto!\n",
    "\n",
    "Contato:\n",
    "- Email: vinicius.pilan@unesp.br\n",
    "- LinkedIn: Vinícius Pilan\n",
    "- GitHub: ViniPilan"
   ]
  }
 ],
 "metadata": {
  "kernelspec": {
   "display_name": "Python 3",
   "language": "python",
   "name": "python3"
  },
  "language_info": {
   "codemirror_mode": {
    "name": "ipython",
    "version": 3
   },
   "file_extension": ".py",
   "mimetype": "text/x-python",
   "name": "python",
   "nbconvert_exporter": "python",
   "pygments_lexer": "ipython3",
   "version": "3.7.9"
  }
 },
 "nbformat": 4,
 "nbformat_minor": 5
}
